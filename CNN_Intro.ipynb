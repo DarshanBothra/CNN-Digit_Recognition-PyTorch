{
  "cells": [
    {
      "cell_type": "markdown",
      "metadata": {
        "id": "view-in-github",
        "colab_type": "text"
      },
      "source": [
        "<a href=\"https://colab.research.google.com/github/DarshanBothra/CNN-Digit_Recognition-PyTorch/blob/main/CNN_Intro.ipynb\" target=\"_parent\"><img src=\"https://colab.research.google.com/assets/colab-badge.svg\" alt=\"Open In Colab\"/></a>"
      ]
    },
    {
      "cell_type": "code",
      "execution_count": 1,
      "metadata": {
        "id": "Y3p3fS9slD3-"
      },
      "outputs": [],
      "source": [
        "import torch as pt\n",
        "import torch.nn as nn\n",
        "import torch.nn.functional as F\n",
        "from torch.utils.data import DataLoader\n",
        "from torchvision import datasets, transforms\n",
        "from torchvision.utils import make_grid\n",
        "\n",
        "from sklearn.metrics import confusion_matrix\n",
        "\n",
        "import numpy as np\n",
        "import pandas as pd\n",
        "import matplotlib.pyplot as plt\n",
        "%matplotlib inline"
      ]
    },
    {
      "cell_type": "code",
      "execution_count": 2,
      "metadata": {
        "id": "G-alLbYgH9BC"
      },
      "outputs": [],
      "source": [
        "# Convert MNIST Images into tensor of 4-Dimensions (Number of Images, Height, Width, Color Channel)\n",
        "transform = transforms.ToTensor()"
      ]
    },
    {
      "cell_type": "code",
      "execution_count": 3,
      "metadata": {
        "id": "76FWlEF_IyNw",
        "colab": {
          "base_uri": "https://localhost:8080/"
        },
        "outputId": "7accd356-dcf4-4bb9-de30-db245ea0578d"
      },
      "outputs": [
        {
          "output_type": "stream",
          "name": "stderr",
          "text": [
            "100%|██████████| 9.91M/9.91M [00:00<00:00, 16.0MB/s]\n",
            "100%|██████████| 28.9k/28.9k [00:00<00:00, 481kB/s]\n",
            "100%|██████████| 1.65M/1.65M [00:00<00:00, 4.46MB/s]\n",
            "100%|██████████| 4.54k/4.54k [00:00<00:00, 6.97MB/s]\n"
          ]
        }
      ],
      "source": [
        "# Import MNIST Data files for training and testing sets\n",
        "\n",
        "train_data = datasets.MNIST(root = 'data', train = True, download = True, transform = transform) # Training dataset\n",
        "test_data = datasets.MNIST(root = 'data', train = False, download = True, transform = transform) # Testing dataset"
      ]
    },
    {
      "cell_type": "code",
      "source": [
        "# Create a batch size for images\n",
        "train_loader = DataLoader(train_data, batch_size = 10, shuffle = True)\n",
        "test_loader = DataLoader(test_data, batch_size = 10, shuffle = False)\n"
      ],
      "metadata": {
        "id": "2UjYVJCYMUQ6"
      },
      "execution_count": 4,
      "outputs": []
    },
    {
      "cell_type": "code",
      "source": [
        "# Define CNN Model\n",
        "\n",
        "class ConvolutionalNeuralNet(nn.Module): # Convolution -> Pooling -> Convolution -> Pooling\n",
        "  def __init__(self):\n",
        "    super().__init__()\n",
        "\n",
        "    # Convolution Layers\n",
        "    self.conv1 = nn.Conv2d(in_channels = 1, out_channels = 8, kernel_size = 3, stride = 1, padding = 1) # Layer 1\n",
        "    self.conv2 = nn.Conv2d(in_channels = 8, out_channels = 16, kernel_size = 3, stride = 1, padding = 1) # Layer 2\n",
        "\n",
        "    # Fully Connected Layers\n",
        "    self.fc1 = nn.Linear(7*7*16, 128)\n",
        "    self.fc2 = nn.Linear(128, 64)\n",
        "    self.fc3 = nn.Linear(64, 10)\n",
        "\n",
        "  def forward(self, X):\n",
        "    X = F.leaky_relu(self.conv1(X))\n",
        "    # Pooling Layer 1\n",
        "    X = F.max_pool2d(X, kernel_size = 2, stride = 2)\n",
        "\n",
        "    X = F.leaky_relu(self.conv2(X))\n",
        "    # Pooling Layer 2\n",
        "    X = F.max_pool2d(X, kernel_size = 2, stride = 2)\n",
        "\n",
        "    X = X.view(-1, 7*7*16)\n",
        "\n",
        "    # Fully connected layers\n",
        "    # Forwrding\n",
        "\n",
        "    X = F.leaky_relu(self.fc1(X))\n",
        "\n",
        "    X = F.leaky_relu(self.fc2(X))\n",
        "\n",
        "    X = self.fc3(X)\n",
        "\n",
        "    return F.log_softmax(X, dim = 1)\n"
      ],
      "metadata": {
        "id": "GkxrAQq2NQHs"
      },
      "execution_count": 5,
      "outputs": []
    },
    {
      "cell_type": "code",
      "source": [
        "# Create an instance of the Model\n",
        "\n",
        "seed = pt.manual_seed(52)\n",
        "model = ConvolutionalNeuralNet()\n",
        "model"
      ],
      "metadata": {
        "colab": {
          "base_uri": "https://localhost:8080/"
        },
        "id": "rAH3_ASHN6EP",
        "outputId": "89656eef-c0f9-4f58-b804-6d286606ba6e"
      },
      "execution_count": 6,
      "outputs": [
        {
          "output_type": "execute_result",
          "data": {
            "text/plain": [
              "ConvolutionalNeuralNet(\n",
              "  (conv1): Conv2d(1, 8, kernel_size=(3, 3), stride=(1, 1), padding=(1, 1))\n",
              "  (conv2): Conv2d(8, 16, kernel_size=(3, 3), stride=(1, 1), padding=(1, 1))\n",
              "  (fc1): Linear(in_features=784, out_features=128, bias=True)\n",
              "  (fc2): Linear(in_features=128, out_features=64, bias=True)\n",
              "  (fc3): Linear(in_features=64, out_features=10, bias=True)\n",
              ")"
            ]
          },
          "metadata": {},
          "execution_count": 6
        }
      ]
    },
    {
      "cell_type": "code",
      "source": [
        "# Loss Function Optimizer\n",
        "lossFN = nn.CrossEntropyLoss()\n",
        "optimizer = pt.optim.Adam(model.parameters(), lr = 0.001) # Smaller the learning rate, the longer it will take to train the model and more accurate\n"
      ],
      "metadata": {
        "id": "UXtOJHKeOC1o"
      },
      "execution_count": 7,
      "outputs": []
    },
    {
      "cell_type": "code",
      "source": [
        "# Training the Model\n",
        "import time\n",
        "start_time = time.time()\n",
        "\n",
        "# Create variables to track stuff (hyper-parameters)\n",
        "\n",
        "epochs = 5\n",
        "train_losses = []\n",
        "test_losses = []\n",
        "train_correct = []\n",
        "test_correct = []\n",
        "\n",
        "# For loop of epochs\n",
        "for i in range(epochs):\n",
        "  trn_corr = 0\n",
        "  tst_corr = 0\n",
        "\n",
        "  # Training\n",
        "  for b, (X_train, y_train) in enumerate(train_loader):\n",
        "\n",
        "    b +=1\n",
        "\n",
        "    y_pred = model(X_train)\n",
        "    loss = lossFN(y_pred, y_train)\n",
        "\n",
        "    predicted = pt.max(y_pred.data, 1)[1]\n",
        "    batch_corr = (predicted == y_train).sum()\n",
        "    trn_corr += batch_corr\n",
        "\n",
        "    # Update Parameters\n",
        "\n",
        "    optimizer.zero_grad()\n",
        "    loss.backward()\n",
        "    optimizer.step()\n",
        "\n",
        "    # Print Results\n",
        "\n",
        "    if b%600 == 0:\n",
        "      print(f'epoch: {i}  batch: {b}  loss: {loss.item()}  \\accuracy: {trn_corr.item()*100/(10*b)}%')\n",
        "\n",
        "  train_losses.append(loss)\n",
        "  train_correct.append(trn_corr)\n",
        "\n",
        "  # Testing\n",
        "  with pt.no_grad():\n",
        "    for b, (X_test, y_test) in enumerate(test_loader):\n",
        "      y_eval = model(X_test)\n",
        "      predicted = pt.max(y_eval.data, 1)[1]\n",
        "      tst_corr += (predicted == y_test).sum()\n",
        "\n",
        "  loss = lossFN(y_eval, y_test)\n",
        "  test_losses.append(loss)\n",
        "  test_correct.append(tst_corr)\n",
        "\n",
        "\n",
        "current_time = time.time()\n",
        "\n",
        "diff = current_time - start_time\n",
        "print(f\"Trainign took {diff/60} mintes\")"
      ],
      "metadata": {
        "colab": {
          "base_uri": "https://localhost:8080/"
        },
        "id": "U3eadjbmQA3q",
        "outputId": "3a78b4c8-8ec3-4fab-f081-23b7da1b59cd"
      },
      "execution_count": 8,
      "outputs": [
        {
          "output_type": "stream",
          "name": "stdout",
          "text": [
            "epoch: 0  batch: 600  loss: 0.17742010951042175  \u0007ccuracy: 78.03333333333333%\n",
            "epoch: 0  batch: 1200  loss: 0.0328683964908123  \u0007ccuracy: 85.98333333333333%\n",
            "epoch: 0  batch: 1800  loss: 0.014312075451016426  \u0007ccuracy: 89.05555555555556%\n",
            "epoch: 0  batch: 2400  loss: 0.07512219250202179  \u0007ccuracy: 90.7875%\n",
            "epoch: 0  batch: 3000  loss: 0.002035572426393628  \u0007ccuracy: 91.91666666666667%\n",
            "epoch: 0  batch: 3600  loss: 0.19288919866085052  \u0007ccuracy: 92.76944444444445%\n",
            "epoch: 0  batch: 4200  loss: 0.014241321012377739  \u0007ccuracy: 93.34761904761905%\n",
            "epoch: 0  batch: 4800  loss: 0.016960639506578445  \u0007ccuracy: 93.92291666666667%\n",
            "epoch: 0  batch: 5400  loss: 0.0008985765161924064  \u0007ccuracy: 94.33888888888889%\n",
            "epoch: 0  batch: 6000  loss: 0.009794086217880249  \u0007ccuracy: 94.67166666666667%\n",
            "epoch: 1  batch: 600  loss: 0.0011188543867319822  \u0007ccuracy: 97.8%\n",
            "epoch: 1  batch: 1200  loss: 0.0005280355107970536  \u0007ccuracy: 97.95%\n",
            "epoch: 1  batch: 1800  loss: 0.0019212104380130768  \u0007ccuracy: 98.06111111111112%\n",
            "epoch: 1  batch: 2400  loss: 0.1909915655851364  \u0007ccuracy: 98.14583333333333%\n",
            "epoch: 1  batch: 3000  loss: 0.0010014573344960809  \u0007ccuracy: 98.18%\n",
            "epoch: 1  batch: 3600  loss: 0.009656070731580257  \u0007ccuracy: 98.19722222222222%\n",
            "epoch: 1  batch: 4200  loss: 0.3528359532356262  \u0007ccuracy: 98.19761904761904%\n",
            "epoch: 1  batch: 4800  loss: 0.0020278380252420902  \u0007ccuracy: 98.225%\n",
            "epoch: 1  batch: 5400  loss: 0.004779757931828499  \u0007ccuracy: 98.23148148148148%\n",
            "epoch: 1  batch: 6000  loss: 0.0008874288760125637  \u0007ccuracy: 98.24666666666667%\n",
            "epoch: 2  batch: 600  loss: 0.019871322438120842  \u0007ccuracy: 99.06666666666666%\n",
            "epoch: 2  batch: 1200  loss: 0.027856141328811646  \u0007ccuracy: 98.91666666666667%\n",
            "epoch: 2  batch: 1800  loss: 0.00011389875726308674  \u0007ccuracy: 98.88888888888889%\n",
            "epoch: 2  batch: 2400  loss: 0.012048776261508465  \u0007ccuracy: 98.875%\n",
            "epoch: 2  batch: 3000  loss: 0.00010086035763379186  \u0007ccuracy: 98.88666666666667%\n",
            "epoch: 2  batch: 3600  loss: 0.0007752621313557029  \u0007ccuracy: 98.87222222222222%\n",
            "epoch: 2  batch: 4200  loss: 0.00032086536521092057  \u0007ccuracy: 98.86428571428571%\n",
            "epoch: 2  batch: 4800  loss: 0.00023534087813459337  \u0007ccuracy: 98.8375%\n",
            "epoch: 2  batch: 5400  loss: 0.23482544720172882  \u0007ccuracy: 98.85555555555555%\n",
            "epoch: 2  batch: 6000  loss: 0.0012265166733413935  \u0007ccuracy: 98.86166666666666%\n",
            "epoch: 3  batch: 600  loss: 0.000496455526445061  \u0007ccuracy: 99.06666666666666%\n",
            "epoch: 3  batch: 1200  loss: 0.000941538717597723  \u0007ccuracy: 99.025%\n",
            "epoch: 3  batch: 1800  loss: 0.02593476139008999  \u0007ccuracy: 99.1%\n",
            "epoch: 3  batch: 2400  loss: 0.0019844076596200466  \u0007ccuracy: 99.0875%\n",
            "epoch: 3  batch: 3000  loss: 0.002114135306328535  \u0007ccuracy: 99.06%\n",
            "epoch: 3  batch: 3600  loss: 0.019331837072968483  \u0007ccuracy: 99.05555555555556%\n",
            "epoch: 3  batch: 4200  loss: 0.022213909775018692  \u0007ccuracy: 99.04047619047618%\n",
            "epoch: 3  batch: 4800  loss: 0.0007800438906997442  \u0007ccuracy: 99.04375%\n",
            "epoch: 3  batch: 5400  loss: 0.22073106467723846  \u0007ccuracy: 99.03703703703704%\n",
            "epoch: 3  batch: 6000  loss: 6.244696851354092e-05  \u0007ccuracy: 99.025%\n",
            "epoch: 4  batch: 600  loss: 6.883738387841731e-05  \u0007ccuracy: 99.5%\n",
            "epoch: 4  batch: 1200  loss: 0.0005238972371444106  \u0007ccuracy: 99.49166666666666%\n",
            "epoch: 4  batch: 1800  loss: 0.0004039505438413471  \u0007ccuracy: 99.42222222222222%\n",
            "epoch: 4  batch: 2400  loss: 0.001049429876729846  \u0007ccuracy: 99.3875%\n",
            "epoch: 4  batch: 3000  loss: 0.0009200277854688466  \u0007ccuracy: 99.37333333333333%\n",
            "epoch: 4  batch: 3600  loss: 0.0020091813057661057  \u0007ccuracy: 99.35%\n",
            "epoch: 4  batch: 4200  loss: 0.00012368969328235835  \u0007ccuracy: 99.32380952380953%\n",
            "epoch: 4  batch: 4800  loss: 0.0009065073681995273  \u0007ccuracy: 99.29166666666667%\n",
            "epoch: 4  batch: 5400  loss: 1.7939708413905464e-05  \u0007ccuracy: 99.29629629629629%\n",
            "epoch: 4  batch: 6000  loss: 3.1135579774854705e-05  \u0007ccuracy: 99.29833333333333%\n",
            "Trainign took 2.8809503316879272 mintes\n"
          ]
        }
      ]
    },
    {
      "cell_type": "code",
      "source": [
        "# train_losses = [t1.item() for t1 in train_losses]\n",
        "plt.plot(train_losses, label = \"Training Loss\")\n",
        "plt.plot(test_losses, label = \"Testing Loss\")\n",
        "plt.title(\"Loss at Epoch\")\n",
        "plt.legend()"
      ],
      "metadata": {
        "colab": {
          "base_uri": "https://localhost:8080/",
          "height": 469
        },
        "id": "W8dMQ2Bk5zKq",
        "outputId": "bfa37bc8-dc5a-4015-bf0a-6e2267ddb25d"
      },
      "execution_count": 14,
      "outputs": [
        {
          "output_type": "execute_result",
          "data": {
            "text/plain": [
              "<matplotlib.legend.Legend at 0x7f6f72c7f1d0>"
            ]
          },
          "metadata": {},
          "execution_count": 14
        },
        {
          "output_type": "display_data",
          "data": {
            "text/plain": [
              "<Figure size 640x480 with 1 Axes>"
            ],
            "image/png": "[encoded data removed]"
          },
          "metadata": {}
        }
      ]
    },
    {
      "cell_type": "code",
      "source": [
        "# Graph the accuracy at the end of each epoch\n",
        "plt.plot([t/600 for t in train_correct], label = \"Training Accuracy\")\n",
        "plt.plot([t/100 for t in test_correct], label = \"Validation Accuracy\")\n",
        "plt.title(\"Accuracy at Epoch\")\n",
        "plt.legend()"
      ],
      "metadata": {
        "colab": {
          "base_uri": "https://localhost:8080/",
          "height": 469
        },
        "id": "hM7ACdIO6dW6",
        "outputId": "99d95577-943f-433d-aee4-5875889751d6"
      },
      "execution_count": 19,
      "outputs": [
        {
          "output_type": "execute_result",
          "data": {
            "text/plain": [
              "<matplotlib.legend.Legend at 0x7f6f72f748d0>"
            ]
          },
          "metadata": {},
          "execution_count": 19
        },
        {
          "output_type": "display_data",
          "data": {
            "text/plain": [
              "<Figure size 640x480 with 1 Axes>"
            ],
            "image/png": "[encoded data removed]"
          },
          "metadata": {}
        }
      ]
    },
    {
      "cell_type": "code",
      "source": [
        "test_load_everything = DataLoader(test_data, batch_size = 10000, shuffle = False)\n"
      ],
      "metadata": {
        "id": "T5uadDQ662oW"
      },
      "execution_count": 20,
      "outputs": []
    },
    {
      "cell_type": "code",
      "source": [
        "with pt.no_grad():\n",
        "  correct = 0\n",
        "  for X_test, y_test in test_load_everything:\n",
        "    y_eval = model(X_test)\n",
        "    predicted = pt.max(y_eval.data, 1)[1]\n",
        "    correct += (predicted == y_test).sum()\n",
        "\n",
        "print(f\"Test Accuracy: {correct/10000*100}\")"
      ],
      "metadata": {
        "colab": {
          "base_uri": "https://localhost:8080/"
        },
        "id": "YKLxypKe7FKU",
        "outputId": "35d1eb0a-21af-43d0-a96e-bc7bf8f2731d"
      },
      "execution_count": 24,
      "outputs": [
        {
          "output_type": "stream",
          "name": "stdout",
          "text": [
            "Test Accuracy: 99.01000213623047\n"
          ]
        }
      ]
    },
    {
      "cell_type": "code",
      "source": [
        "# Predict for new images!\n",
        "\n",
        "Image = test_data[4143] # Tesor with image in it\n",
        "actual = Image[-1]\n",
        "pred = model(Image[0].view(1, 1, 28, 28))\n",
        "pred = pt.max(pred, 1)[1]\n",
        "\n",
        "print(f\"Actual Image: {actual}\\nPredicted Image: {int(pred)}\")"
      ],
      "metadata": {
        "colab": {
          "base_uri": "https://localhost:8080/"
        },
        "id": "-UOV9Peb7hN6",
        "outputId": "cf7d6999-eba3-412a-ff44-fe7e8cb7f780"
      },
      "execution_count": 40,
      "outputs": [
        {
          "output_type": "stream",
          "name": "stdout",
          "text": [
            "Actual Image: 9\n",
            "Predicted Image: 9\n"
          ]
        }
      ]
    }
  ],
  "metadata": {
    "accelerator": "GPU",
    "colab": {
      "gpuType": "T4",
      "provenance": [],
      "authorship_tag": "ABX9TyPooNzIRNNmjH8xNa07sIJv",
      "include_colab_link": true
    },
    "kernelspec": {
      "display_name": "Python 3",
      "name": "python3"
    },
    "language_info": {
      "name": "python"
    }
  },
  "nbformat": 4,
  "nbformat_minor": 0
}